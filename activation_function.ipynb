{
  "nbformat": 4,
  "nbformat_minor": 0,
  "metadata": {
    "colab": {
      "name": "활성화함수.ipynb",
      "provenance": [],
      "authorship_tag": "ABX9TyM5qr1Be8dSlw4oN2MdiqFB",
      "include_colab_link": true
    },
    "kernelspec": {
      "name": "python3",
      "display_name": "Python 3"
    },
    "language_info": {
      "name": "python"
    }
  },
  "cells": [
    {
      "cell_type": "markdown",
      "metadata": {
        "id": "view-in-github",
        "colab_type": "text"
      },
      "source": [
        "<a href=\"https://colab.research.google.com/github/SeojinSeojin/deep-learning_challenge/blob/main/activation_function.ipynb\" target=\"_parent\"><img src=\"https://colab.research.google.com/assets/colab-badge.svg\" alt=\"Open In Colab\"/></a>"
      ]
    },
    {
      "cell_type": "code",
      "metadata": {
        "id": "9UYsR-ODPSSN"
      },
      "source": [
        "## 함수 출력 함수\n",
        "import matplotlib.pyplot as plt\n",
        "import numpy as np\n",
        "\n",
        "def show_graph(function):\n",
        "  x = np.arange(-3,3,0.2)\n",
        "  y = [function(a) for a in x]\n",
        "  plt.plot(x,y)\n",
        "  plt.show()"
      ],
      "execution_count": 1,
      "outputs": []
    },
    {
      "cell_type": "markdown",
      "metadata": {
        "id": "YYg7p5KIOR_A"
      },
      "source": [
        "### Tanh 함수"
      ]
    },
    {
      "cell_type": "code",
      "metadata": {
        "id": "c0crcsvfOV8g"
      },
      "source": [
        "def tanh(x):\n",
        "  return (np.exp(x)-np.exp(-x)/(np.exp(x)+np.exp(-x)))"
      ],
      "execution_count": 2,
      "outputs": []
    },
    {
      "cell_type": "code",
      "metadata": {
        "colab": {
          "base_uri": "https://localhost:8080/",
          "height": 265
        },
        "id": "TVZXPMO2QWo2",
        "outputId": "3e668fb0-f9c2-4d53-ab37-a74f784a25c9"
      },
      "source": [
        "show_graph(tanh)"
      ],
      "execution_count": 3,
      "outputs": [
        {
          "output_type": "display_data",
          "data": {
            "image/png": "[encoded data removed]",
            "text/plain": [
              "<Figure size 432x288 with 1 Axes>"
            ]
          },
          "metadata": {
            "tags": [],
            "needs_background": "light"
          }
        }
      ]
    },
    {
      "cell_type": "markdown",
      "metadata": {
        "id": "049rJUPVOO9Q"
      },
      "source": [
        "### 렐루 함수"
      ]
    },
    {
      "cell_type": "code",
      "metadata": {
        "id": "-mfkKOBoOSYo"
      },
      "source": [
        "def relu(x):\n",
        "  return np.maximum(0,x)"
      ],
      "execution_count": 4,
      "outputs": []
    },
    {
      "cell_type": "code",
      "metadata": {
        "colab": {
          "base_uri": "https://localhost:8080/",
          "height": 265
        },
        "id": "-kTQ5mFNQqwR",
        "outputId": "d81519e8-1123-44b6-c280-009f6a610d02"
      },
      "source": [
        "show_graph(relu)"
      ],
      "execution_count": 5,
      "outputs": [
        {
          "output_type": "display_data",
          "data": {
            "image/png": "[encoded data removed]",
            "text/plain": [
              "<Figure size 432x288 with 1 Axes>"
            ]
          },
          "metadata": {
            "tags": [],
            "needs_background": "light"
          }
        }
      ]
    },
    {
      "cell_type": "markdown",
      "metadata": {
        "id": "KeYpSWS7OGfA"
      },
      "source": [
        "### 시그모이드 함수"
      ]
    },
    {
      "cell_type": "code",
      "metadata": {
        "id": "xaq2exUHOMpY"
      },
      "source": [
        "def sigmoid(x):\n",
        "  return 1 / (1+np.exp(-x))"
      ],
      "execution_count": 6,
      "outputs": []
    },
    {
      "cell_type": "code",
      "metadata": {
        "colab": {
          "base_uri": "https://localhost:8080/",
          "height": 265
        },
        "id": "hJKxd2x1QuQl",
        "outputId": "5cec53de-686a-4e78-abcf-408d349d2b11"
      },
      "source": [
        "show_graph(sigmoid)"
      ],
      "execution_count": 7,
      "outputs": [
        {
          "output_type": "display_data",
          "data": {
            "image/png": "[encoded data removed]",
            "text/plain": [
              "<Figure size 432x288 with 1 Axes>"
            ]
          },
          "metadata": {
            "tags": [],
            "needs_background": "light"
          }
        }
      ]
    },
    {
      "cell_type": "markdown",
      "metadata": {
        "id": "aOccquwSN6Ou"
      },
      "source": [
        "### 계단 함수"
      ]
    },
    {
      "cell_type": "code",
      "metadata": {
        "id": "_ztoiZQMNoea"
      },
      "source": [
        "def step_function(x):\n",
        "\treturn np.array(x>0, dtype=np.int)"
      ],
      "execution_count": 8,
      "outputs": []
    },
    {
      "cell_type": "code",
      "metadata": {
        "colab": {
          "base_uri": "https://localhost:8080/",
          "height": 265
        },
        "id": "p632-RKFQxv9",
        "outputId": "50040c78-605e-46dd-dabb-e9159da318ea"
      },
      "source": [
        "show_graph(step_function)"
      ],
      "execution_count": 9,
      "outputs": [
        {
          "output_type": "display_data",
          "data": {
            "image/png": "[encoded data removed]",
            "text/plain": [
              "<Figure size 432x288 with 1 Axes>"
            ]
          },
          "metadata": {
            "tags": [],
            "needs_background": "light"
          }
        }
      ]
    },
    {
      "cell_type": "markdown",
      "metadata": {
        "id": "wIZtpd7bOi_o"
      },
      "source": [
        "### 참고 자료"
      ]
    },
    {
      "cell_type": "markdown",
      "metadata": {
        "id": "XlGuFIFtOpdd"
      },
      "source": [
        "https://reniew.github.io/12/\n",
        "https://enjoyso.tistory.com/119"
      ]
    }
  ]
}