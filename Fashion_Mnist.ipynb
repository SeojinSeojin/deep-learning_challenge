{
  "nbformat": 4,
  "nbformat_minor": 0,
  "metadata": {
    "colab": {
      "name": "Fashion_Mnist.ipynb",
      "provenance": [],
      "authorship_tag": "ABX9TyNOkvN1tme49HbRSKmOLRvh",
      "include_colab_link": true
    },
    "kernelspec": {
      "name": "python3",
      "display_name": "Python 3"
    },
    "language_info": {
      "name": "python"
    },
    "accelerator": "GPU"
  },
  "cells": [
    {
      "cell_type": "markdown",
      "metadata": {
        "id": "view-in-github",
        "colab_type": "text"
      },
      "source": [
        "<a href=\"https://colab.research.google.com/github/SeojinSeojin/deep-learning_challenge/blob/main/Fashion_Mnist.ipynb\" target=\"_parent\"><img src=\"https://colab.research.google.com/assets/colab-badge.svg\" alt=\"Open In Colab\"/></a>"
      ]
    },
    {
      "cell_type": "code",
      "metadata": {
        "colab": {
          "base_uri": "https://localhost:8080/"
        },
        "id": "_FsJBvH7Tnmh",
        "outputId": "fa3e232c-0a5b-44c1-8c62-8dfa8713db27"
      },
      "source": [
        "import tensorflow as tf\n",
        "\n",
        "fashion_mnist = tf.keras.datasets.fashion_mnist\n",
        "\n",
        "(train_images, train_labels), (test_images, test_labels) = fashion_mnist.load_data()"
      ],
      "execution_count": 1,
      "outputs": [
        {
          "output_type": "stream",
          "text": [
            "Downloading data from https://storage.googleapis.com/tensorflow/tf-keras-datasets/train-labels-idx1-ubyte.gz\n",
            "32768/29515 [=================================] - 0s 0us/step\n",
            "Downloading data from https://storage.googleapis.com/tensorflow/tf-keras-datasets/train-images-idx3-ubyte.gz\n",
            "26427392/26421880 [==============================] - 0s 0us/step\n",
            "Downloading data from https://storage.googleapis.com/tensorflow/tf-keras-datasets/t10k-labels-idx1-ubyte.gz\n",
            "8192/5148 [===============================================] - 0s 0us/step\n",
            "Downloading data from https://storage.googleapis.com/tensorflow/tf-keras-datasets/t10k-images-idx3-ubyte.gz\n",
            "4423680/4422102 [==============================] - 0s 0us/step\n"
          ],
          "name": "stdout"
        }
      ]
    },
    {
      "cell_type": "code",
      "metadata": {
        "colab": {
          "base_uri": "https://localhost:8080/"
        },
        "id": "vKrUabeMTowA",
        "outputId": "6a83e3fb-0f57-4889-9bb8-57f893e129e1"
      },
      "source": [
        "import matplotlib.pyplot as plt\n",
        "import numpy as np\n",
        "\n",
        "print(train_labels)\n",
        "print(test_labels)\n",
        "# 핫 인코딩\n",
        "target = train_labels\n",
        "num = np.unique(target, axis=0)\n",
        "print(num)\n",
        "num = num.shape[0]\n",
        "print(num)\n",
        "print(np.eye(num)[target])\n",
        "train_labels = np.eye(num)[target]\n",
        "\n",
        "\n",
        "target2 = test_labels\n",
        "num2 = np.unique(target2, axis=0)\n",
        "num2 = num2.shape[0]\n",
        "test_labels = np.eye(num2)[target2]\n",
        "print(train_labels)\n",
        "print(test_labels)\n"
      ],
      "execution_count": 2,
      "outputs": [
        {
          "output_type": "stream",
          "text": [
            "[9 0 0 ... 3 0 5]\n",
            "[9 2 1 ... 8 1 5]\n",
            "[0 1 2 3 4 5 6 7 8 9]\n",
            "10\n",
            "[[0. 0. 0. ... 0. 0. 1.]\n",
            " [1. 0. 0. ... 0. 0. 0.]\n",
            " [1. 0. 0. ... 0. 0. 0.]\n",
            " ...\n",
            " [0. 0. 0. ... 0. 0. 0.]\n",
            " [1. 0. 0. ... 0. 0. 0.]\n",
            " [0. 0. 0. ... 0. 0. 0.]]\n",
            "[[0. 0. 0. ... 0. 0. 1.]\n",
            " [1. 0. 0. ... 0. 0. 0.]\n",
            " [1. 0. 0. ... 0. 0. 0.]\n",
            " ...\n",
            " [0. 0. 0. ... 0. 0. 0.]\n",
            " [1. 0. 0. ... 0. 0. 0.]\n",
            " [0. 0. 0. ... 0. 0. 0.]]\n",
            "[[0. 0. 0. ... 0. 0. 1.]\n",
            " [0. 0. 1. ... 0. 0. 0.]\n",
            " [0. 1. 0. ... 0. 0. 0.]\n",
            " ...\n",
            " [0. 0. 0. ... 0. 1. 0.]\n",
            " [0. 1. 0. ... 0. 0. 0.]\n",
            " [0. 0. 0. ... 0. 0. 0.]]\n"
          ],
          "name": "stdout"
        }
      ]
    },
    {
      "cell_type": "code",
      "metadata": {
        "id": "LtVnChIyTs6c"
      },
      "source": [
        "train_images = train_images.reshape(-1, 784)\n",
        "test_images = test_images.reshape(-1, 784)"
      ],
      "execution_count": 3,
      "outputs": []
    },
    {
      "cell_type": "code",
      "metadata": {
        "id": "SmkHXWfwYRor"
      },
      "source": [
        "import numpy as np"
      ],
      "execution_count": 4,
      "outputs": []
    },
    {
      "cell_type": "code",
      "metadata": {
        "id": "tquM46ZDYOdU"
      },
      "source": [
        "## 손실 함수 정의\n",
        "\n",
        "def cross_entropy_error(y,t):\n",
        "  if y.ndim==1:\n",
        "    t = t.reshape(1,t.size)\n",
        "    y = y.reshape(1,y.size)\n",
        "\n",
        "  batch_size = y.shape[0]\n",
        "  return -np.sum(t*np.log(y+1e-7))/batch_size\n",
        "  \n",
        "\n",
        "## Forward, Backward 정의\n",
        "\n",
        "def softmax(x):\n",
        "    if x.ndim == 2:\n",
        "        x = x.T\n",
        "        x = x - np.max(x, axis=0)\n",
        "        y = np.exp(x) / np.sum(np.exp(x), axis=0)\n",
        "        return y.T \n",
        "\n",
        "    x = x - np.max(x) # 오버플로 대책\n",
        "    return np.exp(x) / np.sum(np.exp(x))\n",
        "\n",
        "\n",
        "class Relu:\n",
        "    def __init__(self):\n",
        "        self.mask = None\n",
        "\n",
        "    def forward(self, x):\n",
        "        self.mask = (x <= 0)\n",
        "        out = x.copy()\n",
        "        out[self.mask] = 0\n",
        "\n",
        "        return out\n",
        "\n",
        "    def backward(self, dout):\n",
        "        dout[self.mask] = 0\n",
        "        dx = dout\n",
        "\n",
        "        return dx\n",
        "\n",
        "class Affine:\n",
        "    def __init__(self, W, b):\n",
        "        self.W = W\n",
        "        self.b = b\n",
        "        \n",
        "        self.x = None\n",
        "        self.original_x_shape = None\n",
        "        # 가중치와 편향 매개변수의 미분\n",
        "        self.dW = None\n",
        "        self.db = None\n",
        "\n",
        "    def forward(self, x):\n",
        "        # 텐서 대응\n",
        "        self.original_x_shape = x.shape\n",
        "        x = x.reshape(x.shape[0], -1)\n",
        "        self.x = x\n",
        "\n",
        "        out = np.dot(self.x, self.W) + self.b\n",
        "\n",
        "        return out\n",
        "\n",
        "    def backward(self, dout):\n",
        "        dx = np.dot(dout, self.W.T)\n",
        "        self.dW = np.dot(self.x.T, dout)\n",
        "        self.db = np.sum(dout, axis=0)\n",
        "        \n",
        "        dx = dx.reshape(*self.original_x_shape)  # 입력 데이터 모양 변경(텐서 대응)\n",
        "        return dx\n",
        "\n",
        "\n",
        "class SoftmaxWithLoss:\n",
        "    def __init__(self):\n",
        "        self.loss = None # 손실함수\n",
        "        self.y = None    # softmax의 출력\n",
        "        self.t = None    # 정답 레이블(원-핫 인코딩 형태)\n",
        "        \n",
        "    def forward(self, x, t):\n",
        "        self.t = t\n",
        "        self.y = softmax(x)\n",
        "        self.loss = cross_entropy_error(self.y, self.t)\n",
        "        \n",
        "        return self.loss\n",
        "\n",
        "    def backward(self, dout=1):\n",
        "        batch_size = self.t.shape[0]\n",
        "        if self.t.size == self.y.size: # 정답 레이블이 원-핫 인코딩 형태일 때\n",
        "            dx = (self.y - self.t) / batch_size\n",
        "        else:\n",
        "            dx = self.y.copy()\n",
        "            dx[np.arange(batch_size), self.t] -= 1\n",
        "            dx = dx / batch_size\n",
        "        \n",
        "        return dx"
      ],
      "execution_count": 5,
      "outputs": []
    },
    {
      "cell_type": "code",
      "metadata": {
        "id": "AIFxQ8eJYqxt"
      },
      "source": [
        "## 3층 신경망 클래스 정의\n",
        "from collections import OrderedDict\n",
        "\n",
        "class ThreeLayerNet:\n",
        "  def __init__(self, input_size, hidden_size1, hidden_size2, output_size, weight_init_std=0.01):\n",
        "    self.params = {}\n",
        "    self.params[\"W1\"] = weight_init_std * np.random.randn(input_size, hidden_size1)\n",
        "    self.params[\"b1\"] = np.zeros(hidden_size1)\n",
        "    self.params[\"W2\"] = weight_init_std * np.random.randn(hidden_size1, hidden_size2)\n",
        "    self.params[\"b2\"] = np.zeros(hidden_size2)\n",
        "    self.params[\"W3\"] = weight_init_std * np.random.randn(hidden_size2, output_size)\n",
        "    self.params[\"b3\"] = np.zeros(output_size)\n",
        "\n",
        "    # 계층 생성\n",
        "    self.layers = OrderedDict()\n",
        "    self.layers['Affine1'] = Affine(self.params['W1'], self.params['b1'])\n",
        "    self.layers['Relu1'] = Relu()\n",
        "    self.layers['Affine2'] = Affine(self.params['W2'], self.params['b2'])\n",
        "    self.layers['Relu2'] = Relu()\n",
        "    self.layers['Affine3'] = Affine(self.params['W3'], self.params['b3'])\n",
        "    self.lastLayer = SoftmaxWithLoss()\n",
        "\n",
        "  def predict(self, x):\n",
        "    for layer in self.layers.values():\n",
        "      x = layer.forward(x)\n",
        "        \n",
        "    return x\n",
        "  \n",
        "  def loss(self, x, t):\n",
        "    y = self.predict(x)\n",
        "\n",
        "    return self.lastLayer.forward(y, t)\n",
        "  \n",
        "  def accuracy(self, x, t):\n",
        "    y = self.predict(x)\n",
        "    y = np.argmax(y, axis=1)\n",
        "    t = np.argmax(t, axis=1)\n",
        "    \n",
        "    if t.ndim != 1 : t = np.argmax(t, axis=1)\n",
        "    \n",
        "    accuracy = np.sum(y == t) / float(x.shape[0])\n",
        "    return accuracy\n",
        "  \n",
        "  def gradient(self, x, t):\n",
        "    # forward\n",
        "    self.loss(x, t)\n",
        "\n",
        "    # backward\n",
        "    dout = 1\n",
        "    dout = self.lastLayer.backward(dout)\n",
        "    \n",
        "    layers = list(self.layers.values())\n",
        "    layers.reverse()\n",
        "    for layer in layers:\n",
        "        dout = layer.backward(dout)\n",
        "\n",
        "    # 결과 저장\n",
        "    grads = {}\n",
        "    grads['W1'], grads['b1'] = self.layers['Affine1'].dW, self.layers['Affine1'].db\n",
        "    grads['W2'], grads['b2'] = self.layers['Affine2'].dW, self.layers['Affine2'].db\n",
        "    grads['W3'], grads['b3'] = self.layers['Affine3'].dW, self.layers['Affine3'].db\n",
        "\n",
        "    return grads"
      ],
      "execution_count": 6,
      "outputs": []
    },
    {
      "cell_type": "code",
      "metadata": {
        "id": "3_--w46kagjR"
      },
      "source": [
        "import time\n",
        "\n",
        "def train(batch_size=100, learning_rate=0.01):\n",
        "\n",
        "  train_loss_list = []\n",
        "  train_acc_list = []\n",
        "  test_acc_list = []\n",
        "\n",
        "  iters_num = 10000\n",
        "  train_size = train_images.shape[0]\n",
        "\n",
        "  iter_per_epoch = max(train_size / batch_size, 1)\n",
        "  print(\"epoch =\", iter_per_epoch)\n",
        "\n",
        "  network = ThreeLayerNet(input_size=784, hidden_size1=200, hidden_size2=100, output_size=10)\n",
        "\n",
        "  for i in range(iters_num):\n",
        "    batch_mask = np.random.choice(train_size, batch_size)\n",
        "    x_batch = train_images[batch_mask]\n",
        "    t_batch = train_labels[batch_mask]\n",
        "\n",
        "    grad = network.gradient(x_batch, t_batch)\n",
        "\n",
        "    for key in (\"W1\", \"b1\", \"W2\", \"b2\", \"W3\", \"b3\"):\n",
        "      network.params[key] -= learning_rate * grad[key]\n",
        "\n",
        "    loss = network.loss(x_batch, t_batch)\n",
        "    train_loss_list.append(loss)\n",
        "\n",
        "    if i % iter_per_epoch == 0:\n",
        "      train_acc = network.accuracy(train_images, train_labels)\n",
        "      test_acc = network.accuracy(test_images, test_labels)\n",
        "      print(f\"{i} train acc : test acc = {train_acc} : {test_acc}\")\n",
        "      train_acc_list.append(train_acc)\n",
        "      test_acc_list.append(test_acc)\n",
        "  \n",
        "  plt_x1 = np.arange(len(train_acc_list))\n",
        "  plt_y1 = train_acc_list\n",
        "  plt_x2 = np.arange(len(test_acc_list))\n",
        "  plt_y2 = test_acc_list\n",
        "  plt_x3 = np.arange(len(train_loss_list))\n",
        "  plt_y3 = train_loss_list\n",
        "  plt.subplot(311)\n",
        "  plt.plot(plt_x1[1:], plt_y1[1:], 'r-')\n",
        "  plt.subplot(312)\n",
        "  plt.plot(plt_x2[1:], plt_y2[1:], 'r-')\n",
        "  plt.subplot(313)\n",
        "  plt.plot(plt_x3[1:], plt_y3[1:])\n",
        "  plt.show()"
      ],
      "execution_count": 11,
      "outputs": []
    },
    {
      "cell_type": "code",
      "metadata": {
        "colab": {
          "base_uri": "https://localhost:8080/",
          "height": 571
        },
        "id": "dePWOVpHbBTB",
        "outputId": "4d7b6453-7489-4e16-ebb5-426d1e54c7f3"
      },
      "source": [
        "train()"
      ],
      "execution_count": 12,
      "outputs": [
        {
          "output_type": "stream",
          "text": [
            "epoch = 600.0\n",
            "0 train acc : test acc = 0.2762 : 0.2767\n",
            "600 train acc : test acc = 0.7860666666666667 : 0.7756\n",
            "1200 train acc : test acc = 0.8519666666666666 : 0.8376\n",
            "1800 train acc : test acc = 0.8699 : 0.8507\n",
            "2400 train acc : test acc = 0.8654666666666667 : 0.8448\n",
            "3000 train acc : test acc = 0.8908666666666667 : 0.868\n",
            "3600 train acc : test acc = 0.8949333333333334 : 0.868\n",
            "4200 train acc : test acc = 0.8943166666666666 : 0.8655\n",
            "4800 train acc : test acc = 0.9008833333333334 : 0.8745\n",
            "5400 train acc : test acc = 0.9039166666666667 : 0.8763\n",
            "6000 train acc : test acc = 0.908 : 0.8771\n",
            "6600 train acc : test acc = 0.8982 : 0.8709\n",
            "7200 train acc : test acc = 0.9166 : 0.8838\n",
            "7800 train acc : test acc = 0.9179166666666667 : 0.8854\n",
            "8400 train acc : test acc = 0.91435 : 0.881\n",
            "9000 train acc : test acc = 0.9224 : 0.8887\n",
            "9600 train acc : test acc = 0.9143166666666667 : 0.8799\n"
          ],
          "name": "stdout"
        },
        {
          "output_type": "display_data",
          "data": {
            "image/png": "[encoded data removed]",
            "text/plain": [
              "<Figure size 432x288 with 3 Axes>"
            ]
          },
          "metadata": {
            "tags": [],
            "needs_background": "light"
          }
        }
      ]
    },
    {
      "cell_type": "code",
      "metadata": {
        "id": "-sJF3aOwbDUJ"
      },
      "source": [
        ""
      ],
      "execution_count": 10,
      "outputs": []
    }
  ]
}