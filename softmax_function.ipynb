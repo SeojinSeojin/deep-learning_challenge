{
  "nbformat": 4,
  "nbformat_minor": 0,
  "metadata": {
    "colab": {
      "name": "softmax_function.ipynb",
      "provenance": [],
      "authorship_tag": "ABX9TyNjRnivCqrqxFTTRHsiwTA9",
      "include_colab_link": true
    },
    "kernelspec": {
      "name": "python3",
      "display_name": "Python 3"
    }
  },
  "cells": [
    {
      "cell_type": "markdown",
      "metadata": {
        "id": "view-in-github",
        "colab_type": "text"
      },
      "source": [
        "<a href=\"https://colab.research.google.com/github/SeojinSeojin/deep-learning_challenge/blob/main/softmax_function.ipynb\" target=\"_parent\"><img src=\"https://colab.research.google.com/assets/colab-badge.svg\" alt=\"Open In Colab\"/></a>"
      ]
    },
    {
      "cell_type": "code",
      "metadata": {
        "id": "Kx7y6caXJh0C"
      },
      "source": [
        "import numpy as np\r\n",
        "a = np.array([1, 1, 2])"
      ],
      "execution_count": 2,
      "outputs": []
    },
    {
      "cell_type": "code",
      "metadata": {
        "colab": {
          "base_uri": "https://localhost:8080/"
        },
        "id": "jyWhOIDUKMMD",
        "outputId": "6194e597-2a01-4f42-9397-d323b48a66f9"
      },
      "source": [
        "sum_a = sum(a)\r\n",
        "basic_prb_a = a / sum_a\r\n",
        "print(basic_prb_a)"
      ],
      "execution_count": 4,
      "outputs": [
        {
          "output_type": "stream",
          "text": [
            "[0.25 0.25 0.5 ]\n"
          ],
          "name": "stdout"
        }
      ]
    },
    {
      "cell_type": "code",
      "metadata": {
        "colab": {
          "base_uri": "https://localhost:8080/"
        },
        "id": "87BZJseCKTzR",
        "outputId": "3601e6e8-99e9-420f-d29e-a4c3a40ab817"
      },
      "source": [
        "exp_a = np.exp(a)\r\n",
        "sum_exp_a = sum(exp_a)\r\n",
        "softmax_prb_a = exp_a / sum_exp_a\r\n",
        "print(softmax_prb_a)"
      ],
      "execution_count": 5,
      "outputs": [
        {
          "output_type": "stream",
          "text": [
            "[0.21194156 0.21194156 0.57611688]\n"
          ],
          "name": "stdout"
        }
      ]
    }
  ]
}