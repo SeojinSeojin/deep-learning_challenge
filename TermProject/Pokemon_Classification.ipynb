{
  "nbformat": 4,
  "nbformat_minor": 0,
  "metadata": {
    "colab": {
      "name": "Pokemon_Classification.ipynb",
      "private_outputs": true,
      "provenance": [],
      "mount_file_id": "1MrlSBHAftjE1SpLnIkcSExgfxypr0N_P",
      "authorship_tag": "ABX9TyNe3XM6t1QDDZIlbiP2KVhA",
      "include_colab_link": true
    },
    "kernelspec": {
      "name": "python3",
      "display_name": "Python 3"
    },
    "language_info": {
      "name": "python"
    },
    "accelerator": "GPU"
  },
  "cells": [
    {
      "cell_type": "markdown",
      "metadata": {
        "id": "view-in-github",
        "colab_type": "text"
      },
      "source": [
        "<a href=\"https://colab.research.google.com/github/SeojinSeojin/deep-learning_challenge/blob/main/TermProject/Pokemon_Classification.ipynb\" target=\"_parent\"><img src=\"https://colab.research.google.com/assets/colab-badge.svg\" alt=\"Open In Colab\"/></a>"
      ]
    },
    {
      "cell_type": "code",
      "metadata": {
        "id": "nEKA3HX5WMjt"
      },
      "source": [
        "!pip install kaggle\n",
        "from google.colab import files\n",
        "files.upload()"
      ],
      "execution_count": null,
      "outputs": []
    },
    {
      "cell_type": "markdown",
      "metadata": {
        "id": "cnAbvoznctSF"
      },
      "source": [
        "**Train Dataset 추가**"
      ]
    },
    {
      "cell_type": "code",
      "metadata": {
        "id": "I05I9A17YL_x"
      },
      "source": [
        "!mkdir -p ~/.kaggle\n",
        "!cp kaggle.json ~/.kaggle/\n",
        "!chmod 600 ~/.kaggle/kaggle.json"
      ],
      "execution_count": null,
      "outputs": []
    },
    {
      "cell_type": "code",
      "metadata": {
        "id": "TFan2DYeWWc1"
      },
      "source": [
        "!kaggle datasets download -d thedagger/pokemon-generation-one"
      ],
      "execution_count": null,
      "outputs": []
    },
    {
      "cell_type": "code",
      "metadata": {
        "id": "AI6ODKLjWer0"
      },
      "source": [
        "!unzip pokemon-generation-one.zip"
      ],
      "execution_count": null,
      "outputs": []
    },
    {
      "cell_type": "code",
      "metadata": {
        "id": "5zxu3aldYswz"
      },
      "source": [
        "import os\n",
        "\n",
        "directory = \"./dataset\"\n",
        "pokemons = []\n",
        "for file in os.listdir(directory):\n",
        "  pokemons.append(file)\n",
        "# print(pokemons[:10], end=\", \")\n",
        "indexes = [(x) for x in range(len(pokemons))]\n",
        "\n",
        "pokemons_with_indexes = dict(zip(pokemons, indexes))\n",
        "print(pokemons_with_indexes)\n",
        "print(len(pokemons))"
      ],
      "execution_count": null,
      "outputs": []
    },
    {
      "cell_type": "code",
      "metadata": {
        "id": "Tt3OMwjtZWtF"
      },
      "source": [
        "from tensorflow.keras.preprocessing.image import load_img, img_to_array\n",
        "\n",
        "dataset = []\n",
        "count = 0\n",
        "for file in os.listdir(directory):\n",
        "  path = os.path.join(directory, file)\n",
        "  for image in os.listdir(path):\n",
        "    if image[-3:] == 'jpg':\n",
        "      image = load_img(os.path.join(path, image), target_size=(128,128))\n",
        "      image = img_to_array(image)\n",
        "      image = image/255.0\n",
        "      dataset.append([image, pokemons_with_indexes[file]])"
      ],
      "execution_count": null,
      "outputs": []
    },
    {
      "cell_type": "markdown",
      "metadata": {
        "id": "fLJFRStac0Jg"
      },
      "source": [
        "**Test Dataset 추가**"
      ]
    },
    {
      "cell_type": "code",
      "metadata": {
        "id": "wTMiY2NVZfDM"
      },
      "source": [
        "!kaggle datasets download -d hlrhegemony/pokemon-image-dataset"
      ],
      "execution_count": null,
      "outputs": []
    },
    {
      "cell_type": "code",
      "metadata": {
        "id": "rQq2Ir3NcPBp"
      },
      "source": [
        "!unzip pokemon-image-dataset.zip"
      ],
      "execution_count": null,
      "outputs": []
    },
    {
      "cell_type": "code",
      "metadata": {
        "id": "zU58-Xt6CyY3"
      },
      "source": [
        "reverse_mapping=dict(zip(indexes,pokemons)) \n",
        "\n",
        "def mapper(value):\n",
        "    return reverse_mapping[value]"
      ],
      "execution_count": null,
      "outputs": []
    },
    {
      "cell_type": "code",
      "metadata": {
        "id": "fU5mmN4sdJ48"
      },
      "source": [
        "directory2 = \"./images\"\n",
        "\n",
        "testset = []\n",
        "for file in os.listdir(directory2):\n",
        "  if file in pokemons:\n",
        "    path = os.path.join(directory2, file)\n",
        "    for image in os.listdir(path):\n",
        "      image = load_img(os.path.join(path, image), target_size=(128,128))\n",
        "      image = img_to_array(image)\n",
        "      image = image/255.0\n",
        "      testset.append([image, pokemons_with_indexes[file]])"
      ],
      "execution_count": null,
      "outputs": []
    },
    {
      "cell_type": "code",
      "metadata": {
        "id": "mwKrpoNxd2VU"
      },
      "source": [
        "from tensorflow.keras.preprocessing.image import load_img, array_to_img\n",
        "\n",
        "array_to_img(testset[2][0])"
      ],
      "execution_count": null,
      "outputs": []
    },
    {
      "cell_type": "code",
      "metadata": {
        "id": "4szKHGyAeALd"
      },
      "source": [
        "array_to_img(dataset[100][0])"
      ],
      "execution_count": null,
      "outputs": []
    },
    {
      "cell_type": "code",
      "metadata": {
        "id": "0SkYk3lGfB6i"
      },
      "source": [
        "data,dlabels=zip(*dataset)\n",
        "test,tlabels=zip(*testset)"
      ],
      "execution_count": null,
      "outputs": []
    },
    {
      "cell_type": "code",
      "metadata": {
        "id": "hh4J9kA_iFi9"
      },
      "source": [
        "import numpy as np\n",
        "from sklearn.model_selection import train_test_split\n",
        "\n",
        "data = np.array(data)\n",
        "test = np.array(test)\n",
        "dlabels = np.array(list(dlabels))\n",
        "tlabels = np.array(list(tlabels))\n",
        "print(data.shape, len(dlabels), test.shape, len(tlabels))\n",
        "print(len(set(dlabels)))"
      ],
      "execution_count": null,
      "outputs": []
    },
    {
      "cell_type": "markdown",
      "metadata": {
        "id": "kMu14ZRr0lfv"
      },
      "source": [
        "**학습**"
      ]
    },
    {
      "cell_type": "code",
      "metadata": {
        "id": "biQZ26UThF41"
      },
      "source": [
        "from tensorflow import keras\n",
        "from tensorflow.keras import layers\n",
        "from tensorflow.keras.layers import (Dense, BatchNormalization, Flatten, Conv2D, MaxPooling2D, Dropout)\n",
        "\n",
        "model = keras.models.Sequential([\n",
        "    Conv2D(32, (3,3), activation=\"relu\", input_shape=(128,128,3)),\n",
        "    MaxPooling2D((2,2)),\n",
        "    Conv2D(64, (3,3), activation=\"relu\"),\n",
        "    MaxPooling2D((2,2)),\n",
        "    Conv2D(128, (3,3), activation=\"relu\"),\n",
        "    Flatten(),\n",
        "    Dropout(rate=0.2),\n",
        "    Dense(256, activation=\"relu\"),\n",
        "    Dense(516, activation=\"relu\"),\n",
        "    BatchNormalization(),\n",
        "    Dense(516, activation=\"relu\"),\n",
        "    Dense(150, activation=\"sigmoid\")\n",
        "])\n",
        "\n",
        "optimizer = keras.optimizers.Adam(learning_rate=0.0001)\n",
        "model.compile(optimizer=optimizer, loss=\"sparse_categorical_crossentropy\", metrics=[\"accuracy\"])\n",
        "\n",
        "model.fit(data, dlabels, epochs=200, batch_size=200)"
      ],
      "execution_count": null,
      "outputs": []
    },
    {
      "cell_type": "markdown",
      "metadata": {
        "id": "FjjPsyEZ0oPy"
      },
      "source": [
        "**테스트**"
      ]
    },
    {
      "cell_type": "code",
      "metadata": {
        "id": "fZ67YbBUmxbL"
      },
      "source": [
        "loss_and_metrics = model.evaluate(test, tlabels, batch_size=100)\n",
        "print('')\n",
        "print('loss_and_metrics : ' + str(loss_and_metrics))\n",
        "\n",
        "model.save(\"pokemon_model.h5\")"
      ],
      "execution_count": null,
      "outputs": []
    },
    {
      "cell_type": "code",
      "metadata": {
        "id": "hkt7Setqwy-Q"
      },
      "source": [
        "from PIL import Image\n",
        "import requests\n",
        "\n",
        "\n",
        "url = \"https://pbs.twimg.com/profile_images/1116329667147919360/4-lamrzL_400x400.jpg\"\n",
        "image = Image.open(requests.get(url, stream=True).raw)\n",
        "image = image.resize((128, 128))\n",
        "\n",
        "image=img_to_array(image)\n",
        "image=image/255.0\n",
        "prediction_image=np.array(image)\n",
        "prediction_image= np.expand_dims(image, axis=0)\n",
        "\n",
        "prediction=model.predict(prediction_image)\n",
        "value=np.argmax(prediction)\n",
        "move_name=mapper(value)\n",
        "\n",
        "value2 = np.argsort(np.max(prediction, axis=0))[-2]\n",
        "value3 = np.argsort(np.max(prediction, axis=0))[-3]\n",
        "value4 = np.argsort(np.max(prediction, axis=0))[0]\n",
        "\n",
        "print(f\"Prediction is {mapper(value)}.\")\n",
        "print(f\"Second Prediction is {mapper(value2)}.\")\n",
        "print(f\"Third Prediction is {mapper(value3)}\")\n",
        "print(f\"Least Prediction is {mapper(value4)}\")"
      ],
      "execution_count": null,
      "outputs": []
    },
    {
      "cell_type": "code",
      "metadata": {
        "id": "PewyAGhg0bJQ"
      },
      "source": [
        "import json\n",
        "\n",
        "with open(\"pokemons.json\", \"w\", encoding=\"utf-8\") as make_file:\n",
        "  json.dump(reverse_mapping, make_file, indent=\"\\t\")"
      ],
      "execution_count": null,
      "outputs": []
    },
    {
      "cell_type": "code",
      "metadata": {
        "id": "0Rfz-D_HUmJZ"
      },
      "source": [
        ""
      ],
      "execution_count": null,
      "outputs": []
    }
  ]
}