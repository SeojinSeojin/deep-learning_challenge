{
  "nbformat": 4,
  "nbformat_minor": 0,
  "metadata": {
    "colab": {
      "name": "basic-perceptron.ipynb",
      "provenance": [],
      "collapsed_sections": [],
      "authorship_tag": "ABX9TyOS9BkncZTN082R1Q7ZPQwi",
      "include_colab_link": true
    },
    "kernelspec": {
      "name": "python3",
      "display_name": "Python 3"
    }
  },
  "cells": [
    {
      "cell_type": "markdown",
      "metadata": {
        "id": "view-in-github",
        "colab_type": "text"
      },
      "source": [
        "<a href=\"https://colab.research.google.com/github/SeojinSeojin/deep-learning_challenge/blob/main/basic_perceptron.ipynb\" target=\"_parent\"><img src=\"https://colab.research.google.com/assets/colab-badge.svg\" alt=\"Open In Colab\"/></a>"
      ]
    },
    {
      "cell_type": "markdown",
      "metadata": {
        "id": "BXepC-V_MpM2"
      },
      "source": [
        "## 원래 생각했던 논리 회로"
      ]
    },
    {
      "cell_type": "code",
      "metadata": {
        "id": "3Y1K0eknMJ80"
      },
      "source": [
        "def basic_OR(x1, x2):\r\n",
        "  return bool(x1 or x2)\r\n",
        "\r\n",
        "def basic_AND(x1, x2):\r\n",
        "  return bool(x1 and x2)\r\n",
        "\r\n",
        "def basic_NAND(x1, x2):\r\n",
        "  return bool((not x1) or (not x2))\r\n",
        "\r\n",
        "def basic_XOR(x1, x2):\r\n",
        "  return bool(basic_AND(x1,x2) and basic_OR(x1,x2))\r\n",
        "\r\n",
        "def basic_NOR(x1,x2):\r\n",
        "  return bool((not x1) and (not x2))"
      ],
      "execution_count": 1,
      "outputs": []
    },
    {
      "cell_type": "code",
      "metadata": {
        "colab": {
          "base_uri": "https://localhost:8080/"
        },
        "id": "uoFbEDrSR8o3",
        "outputId": "db03a5a4-9a02-4826-ace1-cf3475037115"
      },
      "source": [
        "print(basic_AND(0,1))\r\n",
        "print(basic_AND(1,1))\r\n",
        "print(basic_OR(0,1))\r\n",
        "print(basic_NAND(0,1))\r\n",
        "print(basic_NAND(0,0))\r\n",
        "print(basic_XOR(0,0))\r\n",
        "print(basic_XOR(1,1))\r\n",
        "print(basic_NOR(0,1))\r\n",
        "print(basic_NOR(1,1))"
      ],
      "execution_count": 2,
      "outputs": [
        {
          "output_type": "stream",
          "text": [
            "False\n",
            "True\n",
            "True\n",
            "True\n",
            "True\n",
            "False\n",
            "True\n",
            "False\n",
            "False\n"
          ],
          "name": "stdout"
        }
      ]
    },
    {
      "cell_type": "markdown",
      "metadata": {
        "id": "pzAA4SxdS35m"
      },
      "source": [
        "## 퍼셉트론을 도입한 논리 회로"
      ]
    },
    {
      "cell_type": "code",
      "metadata": {
        "colab": {
          "base_uri": "https://localhost:8080/"
        },
        "id": "0FqOnSm6S-6B",
        "outputId": "6d965275-e673-4412-d869-9227aaa89d3a"
      },
      "source": [
        "def AND(x1,x2):\r\n",
        "  w1, w2, b = 0.5, 0.5, -0.9\r\n",
        "  return x1*w1+x2*w2+b > 0\r\n",
        "\r\n",
        "print(AND(0,0))\r\n",
        "print(AND(0,1))\r\n",
        "print(AND(1,0))\r\n",
        "print(AND(1,1))"
      ],
      "execution_count": null,
      "outputs": [
        {
          "output_type": "stream",
          "text": [
            "False\n",
            "False\n",
            "False\n",
            "True\n"
          ],
          "name": "stdout"
        }
      ]
    },
    {
      "cell_type": "code",
      "metadata": {
        "colab": {
          "base_uri": "https://localhost:8080/"
        },
        "id": "2C68I2d0Tv5m",
        "outputId": "aab1fc24-a589-4ce2-af34-2194ce75b787"
      },
      "source": [
        "def OR(x1,x2):\r\n",
        "  w1, w2, b = 0.5, 0.5, -0.4\r\n",
        "  return x1*w1+x2*w2+b > 0\r\n",
        "\r\n",
        "print(OR(0,0))\r\n",
        "print(OR(0,1))\r\n",
        "print(OR(1,0))\r\n",
        "print(OR(1,1))"
      ],
      "execution_count": null,
      "outputs": [
        {
          "output_type": "stream",
          "text": [
            "False\n",
            "True\n",
            "True\n",
            "True\n"
          ],
          "name": "stdout"
        }
      ]
    },
    {
      "cell_type": "code",
      "metadata": {
        "colab": {
          "base_uri": "https://localhost:8080/"
        },
        "id": "icJISy0sUDht",
        "outputId": "03e2b1eb-563c-40df-de8b-0935093a5d14"
      },
      "source": [
        "def NAND(x1,x2):\r\n",
        "  w1, w2, b = -0.5, -0.5, 0.9\r\n",
        "  return x1*w1+x2*w2+b > 0\r\n",
        "\r\n",
        "print(NAND(0,0))\r\n",
        "print(NAND(0,1))\r\n",
        "print(NAND(1,0))\r\n",
        "print(NAND(1,1))"
      ],
      "execution_count": null,
      "outputs": [
        {
          "output_type": "stream",
          "text": [
            "True\n",
            "True\n",
            "True\n",
            "False\n"
          ],
          "name": "stdout"
        }
      ]
    },
    {
      "cell_type": "code",
      "metadata": {
        "colab": {
          "base_uri": "https://localhost:8080/"
        },
        "id": "lz46USUyUOMm",
        "outputId": "61c0ba19-a216-4155-8c24-8bf8d91cc31a"
      },
      "source": [
        "def XOR(x1,x2):\r\n",
        "  return AND(NAND(x1,x2), OR(x1,x2))\r\n",
        "\r\n",
        "print(XOR(0,0))\r\n",
        "print(XOR(0,1))\r\n",
        "print(XOR(1,0))\r\n",
        "print(XOR(1,1))"
      ],
      "execution_count": null,
      "outputs": [
        {
          "output_type": "stream",
          "text": [
            "False\n",
            "True\n",
            "True\n",
            "False\n"
          ],
          "name": "stdout"
        }
      ]
    },
    {
      "cell_type": "code",
      "metadata": {
        "id": "WqK4kdDFVPXW",
        "colab": {
          "base_uri": "https://localhost:8080/"
        },
        "outputId": "d9576346-c40e-4da1-ac2f-23de6a82b104"
      },
      "source": [
        "def NOR(x1,x2):\r\n",
        "  w1, w2, b = -0.5, -0.5, 0.4\r\n",
        "  return x1*w1+x2*w2+b > 0\r\n",
        "\r\n",
        "print(NOR(0,0))\r\n",
        "print(NOR(0,1))\r\n",
        "print(NOR(1,0))\r\n",
        "print(NOR(1,1))"
      ],
      "execution_count": 4,
      "outputs": [
        {
          "output_type": "stream",
          "text": [
            "True\n",
            "False\n",
            "False\n",
            "False\n"
          ],
          "name": "stdout"
        }
      ]
    },
    {
      "cell_type": "code",
      "metadata": {
        "id": "uugttLzwIkYU"
      },
      "source": [
        ""
      ],
      "execution_count": null,
      "outputs": []
    }
  ]
}