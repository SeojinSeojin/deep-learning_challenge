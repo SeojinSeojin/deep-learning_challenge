{
  "nbformat": 4,
  "nbformat_minor": 0,
  "metadata": {
    "colab": {
      "name": "backpropagation_feat_apple_orange.ipynb",
      "provenance": [],
      "authorship_tag": "ABX9TyMc/NiF7kk8s8rse/PVG+gP",
      "include_colab_link": true
    },
    "kernelspec": {
      "name": "python3",
      "display_name": "Python 3"
    },
    "language_info": {
      "name": "python"
    }
  },
  "cells": [
    {
      "cell_type": "markdown",
      "metadata": {
        "id": "view-in-github",
        "colab_type": "text"
      },
      "source": [
        "<a href=\"https://colab.research.google.com/github/SeojinSeojin/deep-learning_challenge/blob/main/backpropagation_feat_apple_orange.ipynb\" target=\"_parent\"><img src=\"https://colab.research.google.com/assets/colab-badge.svg\" alt=\"Open In Colab\"/></a>"
      ]
    },
    {
      "cell_type": "code",
      "metadata": {
        "id": "MZL5e5UdLvmM"
      },
      "source": [
        "class AddLayer :\n",
        "  def __init__(self):\n",
        "    pass\n",
        "    \n",
        "  def forward(self, x, y):\n",
        "    out = x+y\n",
        "    return out\n",
        "  \n",
        "  def backward(self, dout):\n",
        "    dx = dout * 1\n",
        "    dy = dout * 1\n",
        "    return dx, dy"
      ],
      "execution_count": null,
      "outputs": []
    },
    {
      "cell_type": "code",
      "metadata": {
        "id": "j9QsLGjaMLku"
      },
      "source": [
        "class MulLayer :\n",
        "  def __init__(self):\n",
        "    self.x = None\n",
        "    self.y = None\n",
        "  \n",
        "  def forward(self, x, y):\n",
        "    self.x = x\n",
        "    self.y = y\n",
        "    out = x*y\n",
        "    return out\n",
        "  \n",
        "  def backward(self, dout):\n",
        "    dx = dout * self.y\n",
        "    dy = dout * self.x\n",
        "    return dx, dy"
      ],
      "execution_count": null,
      "outputs": []
    },
    {
      "cell_type": "code",
      "metadata": {
        "id": "ZvpgymQPIXrf"
      },
      "source": [
        "apple = 100\n",
        "apple_num = 2\n",
        "orange = 150\n",
        "orange_num = 3\n",
        "tax = 1.1"
      ],
      "execution_count": null,
      "outputs": []
    },
    {
      "cell_type": "code",
      "metadata": {
        "id": "gaey1FCPNKPG"
      },
      "source": [
        "# 계층 선언하기\n",
        "\n",
        "mul_apple_layer = MulLayer()\n",
        "mul_orang_layer = MulLayer()\n",
        "add_apple_orang_layer = AddLayer()\n",
        "mul_tax_layer = MulLayer()"
      ],
      "execution_count": null,
      "outputs": []
    },
    {
      "cell_type": "code",
      "metadata": {
        "colab": {
          "base_uri": "https://localhost:8080/"
        },
        "id": "KVud5aNZNep9",
        "outputId": "7cf6ac67-fb61-46b7-9ad7-56c5c37601d9"
      },
      "source": [
        "# 순전파\n",
        "apple_price = mul_apple_layer.forward(apple, apple_num)\n",
        "orange_price = mul_orang_layer.forward(orange, orange_num)\n",
        "all_price = add_apple_orang_layer.forward(apple_price, orange_price)\n",
        "texed_price = mul_tax_layer.forward(all_price, tax)\n",
        "\n",
        "print(texed_price)"
      ],
      "execution_count": null,
      "outputs": [
        {
          "output_type": "stream",
          "text": [
            "715.0000000000001\n"
          ],
          "name": "stdout"
        }
      ]
    },
    {
      "cell_type": "code",
      "metadata": {
        "colab": {
          "base_uri": "https://localhost:8080/"
        },
        "id": "vpXnsVfHN4Cf",
        "outputId": "ecbf3a92-338e-4660-fb8e-ffbde1f9c1e5"
      },
      "source": [
        "# 역전파\n",
        "d_price = 715.0000000000001\n",
        "d_all_price, d_tax = mul_tax_layer.backward(d_price)\n",
        "d_apple_price, d_orange_price = add_apple_orang_layer.backward(d_all_price)\n",
        "d_orange, d_orange_num = mul_orang_layer.backward(d_orange_price)\n",
        "d_apple, d_apple_num = mul_apple_layer.backward(d_apple_price)\n",
        "\n",
        "print(f\"d_price = {d_price}개 일 때 값들\")\n",
        "print(f\"all price = {d_all_price}, tax = {d_tax}, apple {d_apple_num}개 {d_apple_price}원, orange {d_orange_num}개 {d_orange}원\")"
      ],
      "execution_count": null,
      "outputs": [
        {
          "output_type": "stream",
          "text": [
            "d_price = 715.0000000000001개 일 때 값들\n",
            "all price = 786.5000000000002, tax = 464750.00000000006, apple 78650.00000000003개 786.5000000000002원, orange 117975.00000000003개 2359.500000000001원\n"
          ],
          "name": "stdout"
        }
      ]
    }
  ]
}